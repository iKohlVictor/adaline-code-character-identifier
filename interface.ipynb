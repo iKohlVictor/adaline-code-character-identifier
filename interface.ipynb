{
 "cells": [
  {
   "cell_type": "code",
   "execution_count": 13,
   "metadata": {},
   "outputs": [
    {
     "ename": "KeyboardInterrupt",
     "evalue": "",
     "output_type": "error",
     "traceback": [
      "\u001b[0;31m---------------------------------------------------------------------------\u001b[0m",
      "\u001b[0;31mKeyboardInterrupt\u001b[0m                         Traceback (most recent call last)",
      "Cell \u001b[0;32mIn[13], line 14\u001b[0m\n\u001b[1;32m     12\u001b[0m \u001b[39m# Event Loop to process \"events\" and get the \"values\" of the inputs\u001b[39;00m\n\u001b[1;32m     13\u001b[0m \u001b[39mwhile\u001b[39;00m \u001b[39mTrue\u001b[39;00m:\n\u001b[0;32m---> 14\u001b[0m     event, values \u001b[39m=\u001b[39m window\u001b[39m.\u001b[39;49mread()\n\u001b[1;32m     15\u001b[0m     \u001b[39mif\u001b[39;00m event \u001b[39m==\u001b[39m sg\u001b[39m.\u001b[39mWIN_CLOSED \u001b[39mor\u001b[39;00m event \u001b[39m==\u001b[39m \u001b[39m'\u001b[39m\u001b[39mCancel\u001b[39m\u001b[39m'\u001b[39m: \u001b[39m# if user closes window or clicks cancel\u001b[39;00m\n\u001b[1;32m     16\u001b[0m         \u001b[39mbreak\u001b[39;00m\n",
      "File \u001b[0;32m~/.local/lib/python3.10/site-packages/PySimpleGUI/PySimpleGUI.py:10079\u001b[0m, in \u001b[0;36mWindow.read\u001b[0;34m(self, timeout, timeout_key, close)\u001b[0m\n\u001b[1;32m  10077\u001b[0m \u001b[39mwhile\u001b[39;00m \u001b[39mTrue\u001b[39;00m:\n\u001b[1;32m  10078\u001b[0m     Window\u001b[39m.\u001b[39m_root_running_mainloop \u001b[39m=\u001b[39m \u001b[39mself\u001b[39m\u001b[39m.\u001b[39mTKroot\n\u001b[0;32m> 10079\u001b[0m     results \u001b[39m=\u001b[39m \u001b[39mself\u001b[39;49m\u001b[39m.\u001b[39;49m_read(timeout\u001b[39m=\u001b[39;49mtimeout, timeout_key\u001b[39m=\u001b[39;49mtimeout_key)\n\u001b[1;32m  10080\u001b[0m     \u001b[39mif\u001b[39;00m results \u001b[39mis\u001b[39;00m \u001b[39mnot\u001b[39;00m \u001b[39mNone\u001b[39;00m:\n\u001b[1;32m  10081\u001b[0m         \u001b[39mif\u001b[39;00m results[\u001b[39m0\u001b[39m] \u001b[39m==\u001b[39m DEFAULT_WINDOW_SNAPSHOT_KEY:\n",
      "File \u001b[0;32m~/.local/lib/python3.10/site-packages/PySimpleGUI/PySimpleGUI.py:10150\u001b[0m, in \u001b[0;36mWindow._read\u001b[0;34m(self, timeout, timeout_key)\u001b[0m\n\u001b[1;32m  10148\u001b[0m     \u001b[39mreturn\u001b[39;00m \u001b[39mNone\u001b[39;00m, \u001b[39mNone\u001b[39;00m\n\u001b[1;32m  10149\u001b[0m \u001b[39mif\u001b[39;00m \u001b[39mnot\u001b[39;00m \u001b[39mself\u001b[39m\u001b[39m.\u001b[39mShown:\n\u001b[0;32m> 10150\u001b[0m     \u001b[39mself\u001b[39;49m\u001b[39m.\u001b[39;49m_Show()\n\u001b[1;32m  10151\u001b[0m \u001b[39melse\u001b[39;00m:\n\u001b[1;32m  10152\u001b[0m     \u001b[39m# if already have a button waiting, the return previously built results\u001b[39;00m\n\u001b[1;32m  10153\u001b[0m     \u001b[39mif\u001b[39;00m \u001b[39mself\u001b[39m\u001b[39m.\u001b[39mLastButtonClicked \u001b[39mis\u001b[39;00m \u001b[39mnot\u001b[39;00m \u001b[39mNone\u001b[39;00m \u001b[39mand\u001b[39;00m \u001b[39mnot\u001b[39;00m \u001b[39mself\u001b[39m\u001b[39m.\u001b[39mLastButtonClickedWasRealtime:\n",
      "File \u001b[0;32m~/.local/lib/python3.10/site-packages/PySimpleGUI/PySimpleGUI.py:9890\u001b[0m, in \u001b[0;36mWindow._Show\u001b[0;34m(self, non_blocking)\u001b[0m\n\u001b[1;32m   9888\u001b[0m     \u001b[39mself\u001b[39m\u001b[39m.\u001b[39mUseDefaultFocus \u001b[39m=\u001b[39m \u001b[39mFalse\u001b[39;00m\n\u001b[1;32m   9889\u001b[0m \u001b[39m# -=-=-=-=-=-=-=-=- RUN the GUI -=-=-=-=-=-=-=-=- ##\u001b[39;00m\n\u001b[0;32m-> 9890\u001b[0m StartupTK(\u001b[39mself\u001b[39;49m)\n\u001b[1;32m   9891\u001b[0m \u001b[39m# If a button or keyboard event happened but no results have been built, build the results\u001b[39;00m\n\u001b[1;32m   9892\u001b[0m \u001b[39mif\u001b[39;00m \u001b[39mself\u001b[39m\u001b[39m.\u001b[39mLastKeyboardEvent \u001b[39mis\u001b[39;00m \u001b[39mnot\u001b[39;00m \u001b[39mNone\u001b[39;00m \u001b[39mor\u001b[39;00m \u001b[39mself\u001b[39m\u001b[39m.\u001b[39mLastButtonClicked \u001b[39mis\u001b[39;00m \u001b[39mnot\u001b[39;00m \u001b[39mNone\u001b[39;00m:\n",
      "File \u001b[0;32m~/.local/lib/python3.10/site-packages/PySimpleGUI/PySimpleGUI.py:16942\u001b[0m, in \u001b[0;36mStartupTK\u001b[0;34m(window)\u001b[0m\n\u001b[1;32m  16940\u001b[0m Window\u001b[39m.\u001b[39m_window_running_mainloop \u001b[39m=\u001b[39m window\n\u001b[1;32m  16941\u001b[0m Window\u001b[39m.\u001b[39m_root_running_mainloop \u001b[39m=\u001b[39m window\u001b[39m.\u001b[39mTKroot\n\u001b[0;32m> 16942\u001b[0m window\u001b[39m.\u001b[39;49mTKroot\u001b[39m.\u001b[39;49mmainloop()\n\u001b[1;32m  16943\u001b[0m window\u001b[39m.\u001b[39mCurrentlyRunningMainloop \u001b[39m=\u001b[39m \u001b[39mFalse\u001b[39;00m\n\u001b[1;32m  16944\u001b[0m window\u001b[39m.\u001b[39mTimerCancelled \u001b[39m=\u001b[39m \u001b[39mTrue\u001b[39;00m\n",
      "File \u001b[0;32m/usr/lib/python3.10/tkinter/__init__.py:1458\u001b[0m, in \u001b[0;36mMisc.mainloop\u001b[0;34m(self, n)\u001b[0m\n\u001b[1;32m   1456\u001b[0m \u001b[39mdef\u001b[39;00m \u001b[39mmainloop\u001b[39m(\u001b[39mself\u001b[39m, n\u001b[39m=\u001b[39m\u001b[39m0\u001b[39m):\n\u001b[1;32m   1457\u001b[0m     \u001b[39m\"\"\"Call the mainloop of Tk.\"\"\"\u001b[39;00m\n\u001b[0;32m-> 1458\u001b[0m     \u001b[39mself\u001b[39;49m\u001b[39m.\u001b[39;49mtk\u001b[39m.\u001b[39;49mmainloop(n)\n",
      "\u001b[0;31mKeyboardInterrupt\u001b[0m: "
     ]
    }
   ],
   "source": [
    "import PySimpleGUI as sg\n",
    "\n",
    "sg.theme('DarkAmber')   # Add a touch of color\n",
    "# All the stuff inside your window.\n",
    "layout = [  [sg.Text('Trabalho 2 - ADALINE')],\n",
    "            [sg.Text('Digite o erro tolerado'),  sg.Slider(range=(6,172), orientation='h', size=(10,20))],\n",
    "            [sg.Text('Digite os ciclos'), sg.InputText()],\n",
    "            [sg.Button('Ok'), sg.Button('Cancel')] ]\n",
    "\n",
    "# Create the Window\n",
    "window = sg.Window('Window Title', layout)\n",
    "# Event Loop to process \"events\" and get the \"values\" of the inputs\n",
    "while True:\n",
    "    event, values = window.read()\n",
    "    if event == sg.WIN_CLOSED or event == 'Cancel': # if user closes window or clicks cancel\n",
    "        break\n",
    "    print('Erro tolerado', values[0])\n",
    "    print('ciclos ', values[1])\n",
    "\n",
    "window.close()"
   ]
  }
 ],
 "metadata": {
  "kernelspec": {
   "display_name": "Python 3",
   "language": "python",
   "name": "python3"
  },
  "language_info": {
   "codemirror_mode": {
    "name": "ipython",
    "version": 3
   },
   "file_extension": ".py",
   "mimetype": "text/x-python",
   "name": "python",
   "nbconvert_exporter": "python",
   "pygments_lexer": "ipython3",
   "version": "3.10.6"
  },
  "orig_nbformat": 4
 },
 "nbformat": 4,
 "nbformat_minor": 2
}
