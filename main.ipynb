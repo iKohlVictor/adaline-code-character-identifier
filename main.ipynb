{
 "cells": [
  {
   "cell_type": "code",
   "execution_count": 10,
   "metadata": {},
   "outputs": [],
   "source": [
    "import os\n",
    "import numpy as np\n",
    "import random as rd\n",
    "import matplotlib.pyplot as plt\n",
    "\n",
    "os.chdir(r'/home/iankohl/Documents/projects/IA/trabalho02_reconhecedor_de_digitos/')\n",
    "arquivoTxt = np.loadtxt('matrix.txt')\n",
    "(amostras, entradas) = np.shape(arquivoTxt)\n",
    "t = np.loadtxt('results.txt')\n",
    "(numClasses, targets) = np.shape(t)\n",
    "v = np.zeros((entradas, numClasses))\n",
    "v0 = np.zeros(numClasses)\n"
   ]
  },
  {
   "cell_type": "code",
   "execution_count": null,
   "metadata": {},
   "outputs": [],
   "source": [
    "\n",
    "limiar = 0.0\n",
    "alfa = 0.1\n",
    "erroTolerado = 0.0001\n",
    "\n",
    "for i in range(entradas):\n",
    "    for j in range(numClasses):\n",
    "        v[i][j] = rd.uniform(-0.1,0.1)\n",
    "\n",
    "for i in range(numClasses):\n",
    "    v0[j] = rd.uniform(-0.1,0.1)\n",
    "\n",
    "vetor1=[]\n",
    "vetor2=[]\n",
    "\n",
    "yin=np.zeros((numClasses, 1))\n",
    "y=np.zeros((numClasses, 1))\n",
    "\n",
    "erro=10\n",
    "ciclo= 0\n",
    "while erro > erroTolerado:\n",
    "    ciclo=ciclo+1\n",
    "    erro=0\n",
    "    for i in range(amostras):\n",
    "        xaux = arquivoTxt[i,:]\n",
    "        for m in range(numClasses):\n",
    "            soma=0\n",
    "            for n in range(entradas):\n",
    "                soma=soma+xaux[n]*v[n][m]\n",
    "            yin[m]=soma+v0[m]\n",
    "\n",
    "        for j in range(numClasses):\n",
    "            if yin[j] > limiar:\n",
    "                y[j]=1.0\n",
    "            elif yin[j] < -limiar:\n",
    "                y[j]=-1.0\n",
    "\n",
    "        for j in range(numClasses):\n",
    "            erro=erro + 0.5 * ((t[j][i]-y[j])**2)\n",
    "        \n",
    "        vanteriror=v\n",
    "\n",
    "        for m in range(entradas):\n",
    "            for n in range(numClasses):\n",
    "                v[m][n]=vanteriror[m][n]+alfa*(t[n][i]-y[n])*xaux[m]\n",
    "        \n",
    "        v0anteriror=v0\n",
    "\n",
    "        for j in range(numClasses):\n",
    "            v0[j]=v0anteriror[j]+alfa*(t[j][i]-y[j])\n",
    "        \n",
    "    \n",
    "    vetor1.append(ciclo)\n",
    "    vetor2.append(erro)\n",
    "\n",
    "    plt.scatter(vetor1, vetor2, marker='*', color='red')\n",
    "    plt.xlabel('Ciclo')\n",
    "    plt.ylabel('Erro')\n",
    "    plt.show()"
   ]
  },
  {
   "cell_type": "code",
   "execution_count": 15,
   "metadata": {},
   "outputs": [
    {
     "ename": "IndexError",
     "evalue": "index 7 is out of bounds for axis 0 with size 7",
     "output_type": "error",
     "traceback": [
      "\u001b[0;31m---------------------------------------------------------------------------\u001b[0m",
      "\u001b[0;31mIndexError\u001b[0m                                Traceback (most recent call last)",
      "Cell \u001b[0;32mIn[15], line 6\u001b[0m\n\u001b[1;32m      4\u001b[0m     \u001b[39mfor\u001b[39;00m n2 \u001b[39min\u001b[39;00m \u001b[39mrange\u001b[39m(entradas):\n\u001b[1;32m      5\u001b[0m         soma \u001b[39m=\u001b[39m soma \u001b[39m+\u001b[39m xtexte[n2] \u001b[39m*\u001b[39m v[n2][m2]\n\u001b[0;32m----> 6\u001b[0m         yin[n2] \u001b[39m=\u001b[39m soma \u001b[39m+\u001b[39m v0[m2]\n\u001b[1;32m      7\u001b[0m \u001b[39mprint\u001b[39m(yin)\n\u001b[1;32m      8\u001b[0m \u001b[39mfor\u001b[39;00m j \u001b[39min\u001b[39;00m \u001b[39mrange\u001b[39m(numClasses):\n",
      "\u001b[0;31mIndexError\u001b[0m: index 7 is out of bounds for axis 0 with size 7"
     ]
    }
   ],
   "source": [
    "xtexte = arquivoTxt[6,:]\n",
    "for m2 in range(numClasses):\n",
    "    soma=0\n",
    "    for n2 in range(entradas):\n",
    "        soma = soma + xtexte[n2] * v[n2][m2]\n",
    "        yin[m2] = soma + v0[m2]\n",
    "print(yin)\n",
    "for j in range(numClasses):\n",
    "    if(yin[j] > 0):\n",
    "        y[j] = 1\n",
    "    else:\n",
    "        y[j] = -1\n",
    "print(y)"
   ]
  }
 ],
 "metadata": {
  "kernelspec": {
   "display_name": "Python 3",
   "language": "python",
   "name": "python3"
  },
  "language_info": {
   "codemirror_mode": {
    "name": "ipython",
    "version": 3
   },
   "file_extension": ".py",
   "mimetype": "text/x-python",
   "name": "python",
   "nbconvert_exporter": "python",
   "pygments_lexer": "ipython3",
   "version": "3.10.6"
  },
  "orig_nbformat": 4
 },
 "nbformat": 4,
 "nbformat_minor": 2
}
